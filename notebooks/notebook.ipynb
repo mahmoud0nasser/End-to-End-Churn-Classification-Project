{
 "cells": [],
 "metadata": {
  "kernelspec": {
   "display_name": "DEPI",
   "language": "python",
   "name": "python3"
  },
  "language_info": {
   "name": "python",
   "version": "3.10.9"
  }
 },
 "nbformat": 4,
 "nbformat_minor": 5
}
